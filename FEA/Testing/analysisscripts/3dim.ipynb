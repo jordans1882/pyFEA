{
 "cells": [
  {
   "cell_type": "code",
   "execution_count": 6,
   "metadata": {},
   "outputs": [
    {
     "name": "stdout",
     "output_type": "stream",
     "text": [
      "Using matplotlib backend: Qt5Agg\n"
     ]
    }
   ],
   "source": [
    "%matplotlib"
   ]
  },
  {
   "cell_type": "code",
   "execution_count": 7,
   "metadata": {
    "scrolled": true
   },
   "outputs": [
    {
     "name": "stderr",
     "output_type": "stream",
     "text": [
      "C:\\Users\\f24n127\\AppData\\Local\\Temp\\ipykernel_14156\\3228846688.py:10: DeprecationWarning: Importing display from IPython.core.display is deprecated since IPython 7.14, please import from IPython display\n",
      "  from IPython.core.display import display\n"
     ]
    },
    {
     "name": "stdout",
     "output_type": "stream",
     "text": [
      "7\n",
      "4\n",
      "0\n",
      "8\n",
      "8\n"
     ]
    },
    {
     "data": {
      "text/plain": [
       "<matplotlib.legend.Legend at 0x167bc77f310>"
      ]
     },
     "execution_count": 7,
     "metadata": {},
     "output_type": "execute_result"
    }
   ],
   "source": [
    "from utilities.multifilereader import MultiFileReader\n",
    "import pickle, random\n",
    "import numpy as np\n",
    "from pymoo.util.nds.non_dominated_sorting import find_non_dominated\n",
    "from itertools import combinations\n",
    "from mpl_toolkits import mplot3d\n",
    "import matplotlib.pyplot as plt\n",
    "import matplotlib.lines as mlines\n",
    "\n",
    "from IPython.core.display import display\n",
    "\n",
    "nondom_solutions = dict()\n",
    "lengths = dict()\n",
    "comparing = []\n",
    "label_names = ['NSGA-II', 'CC-NSGA-II', 'F-NSGA-II']\n",
    "total_front = []\n",
    "\n",
    "file_regex = r'_single_knapsack_3_objectives_'\n",
    "stored_files = MultiFileReader(file_regex)\n",
    "experiment_filenames = stored_files.path_to_files\n",
    "\n",
    "fig = plt.figure()\n",
    "ax = plt.axes(projection='3d')\n",
    "plt.ion()\n",
    "# ax.axes.set_xlim3d(left=600, right=1000)\n",
    "# ax.axes.set_ylim3d(bottom=14000, top=20000)\n",
    "# ax.axes.set_zlim3d(bottom=1400, top=1800)\n",
    "colors = ['#648FFF', '#785EF0', '#DC267F', '#FE6100', '#FFB000']\n",
    "markers = ['o', 'x', '*', 's', 'd']\n",
    "lines = []\n",
    "for i, compare in enumerate(comparing):\n",
    "    experiment = [x for x in experiment_filenames if compare+'_' in x]\n",
    "    if experiment:\n",
    "        rand_int = random.randint(0, len(experiment)-1)\n",
    "        print(rand_int)\n",
    "        experiment = experiment[rand_int]\n",
    "    else:\n",
    "        break       \n",
    "    feamoo = pickle.load(open(experiment, 'rb'))\n",
    "    solutions = np.array([np.array(x.fitness) for x in feamoo.nondom_archive])\n",
    "    ax.scatter3D(solutions[:,0], solutions[:,1], solutions[:,2], colors[i], marker=markers[i])\n",
    "    #lines.append(mlines.Line2D([], [], color=colors[i], marker=markers[i],\n",
    "    #                          markersize=15, label=label_names[i]))\n",
    "ax.legend(labels=label_names)\n",
    "\n"
   ]
  },
  {
   "cell_type": "code",
   "execution_count": 29,
   "metadata": {},
   "outputs": [],
   "source": [
    "plt.ion()"
   ]
  },
  {
   "cell_type": "code",
   "execution_count": 15,
   "metadata": {},
   "outputs": [],
   "source": [
    "plt.show()"
   ]
  },
  {
   "cell_type": "code",
   "execution_count": null,
   "metadata": {},
   "outputs": [],
   "source": []
  }
 ],
 "metadata": {
  "kernelspec": {
   "display_name": "Python 3 (ipykernel)",
   "language": "python",
   "name": "python3"
  },
  "language_info": {
   "codemirror_mode": {
    "name": "ipython",
    "version": 3
   },
   "file_extension": ".py",
   "mimetype": "text/x-python",
   "name": "python",
   "nbconvert_exporter": "python",
   "pygments_lexer": "ipython3",
   "version": "3.8.1"
  },
  "pycharm": {
   "stem_cell": {
    "cell_type": "raw",
    "source": [],
    "metadata": {
     "collapsed": false
    }
   }
  }
 },
 "nbformat": 4,
 "nbformat_minor": 1
}